{
 "cells": [
  {
   "cell_type": "code",
   "execution_count": 4,
   "metadata": {
    "collapsed": true
   },
   "outputs": [],
   "source": [
    "patient_file_link = link_patient_file(\"link.csv\")"
   ]
  },
  {
   "cell_type": "code",
   "execution_count": 5,
   "metadata": {
    "collapsed": true
   },
   "outputs": [],
   "source": [
    "from glob import glob\n",
    "dicom_base_path = \"/Users/300012073/Documents/Tutes/final_data/dicoms/\"\n",
    "countour_base_path = \"/Users/300012073/Documents/Tutes/final_data/contourfiles/\"\n",
    "\n",
    "    "
   ]
  },
  {
   "cell_type": "code",
   "execution_count": 10,
   "metadata": {},
   "outputs": [
    {
     "data": {
      "image/png": "[encoded data removed]",
      "text/plain": [
       "<PIL.Image.Image image mode=L size=256x256 at 0x10896F978>"
      ]
     },
     "execution_count": 10,
     "metadata": {},
     "output_type": "execute_result"
    }
   ],
   "source": [
    "Image.fromarray(c['pixel_data'], mode = \"L\")"
   ]
  },
  {
   "cell_type": "code",
   "execution_count": 11,
   "metadata": {},
   "outputs": [
    {
     "data": {
      "image/png": "[encoded data removed]",
      "text/plain": [
       "<PIL.Image.Image image mode=L size=256x256 at 0x108A5CCC0>"
      ]
     },
     "execution_count": 11,
     "metadata": {},
     "output_type": "execute_result"
    }
   ],
   "source": [
    "Image.fromarray(np.uint8(d)*255)"
   ]
  },
  {
   "cell_type": "code",
   "execution_count": 20,
   "metadata": {
    "collapsed": true
   },
   "outputs": [],
   "source": [
    "BASE_PATH = \"./\"\n",
    "DICOM_BASE_PATH = \"./dicoms\"\n",
    "CONTOUR_BASE_PATH =\"./contourfiles\"  \n",
    "LINK_FILE =\"./Link.csv\"\n",
    "OUTPUT_FOLDER = \"./output\""
   ]
  },
  {
   "cell_type": "code",
   "execution_count": 55,
   "metadata": {},
   "outputs": [],
   "source": [
    "def parse_contour_file(filename):\n",
    "    \"\"\"Parse the given contour filename\n",
    "\n",
    "    :param filename: filepath to the contourfile to parse\n",
    "    :return: list of tuples holding x, y coordinates of the contour\n",
    "    \"\"\"\n",
    "\n",
    "    coords_lst = []\n",
    "\n",
    "    with open(filename, 'r') as infile:\n",
    "        for line in infile:\n",
    "            coords = line.strip().split()\n",
    "\n",
    "            x_coord = float(coords[0])\n",
    "            y_coord = float(coords[1])\n",
    "            coords_lst.append((x_coord, y_coord))\n",
    "\n",
    "    return coords_lst\n",
    "\n",
    "def parse_dicom_file(filename):\n",
    "    \"\"\"Parse the given DICOM filename\n",
    "\n",
    "    :param filename: filepath to the DICOM file to parse\n",
    "    :return: dictionary with DICOM image data\n",
    "    \"\"\"\n",
    "\n",
    "    try:\n",
    "        dcm = pydicom.read_file(filename)\n",
    "        dcm_image = dcm.pixel_array\n",
    "\n",
    "        try:\n",
    "            intercept = dcm.RescaleIntercept\n",
    "        except AttributeError:\n",
    "            intercept = 0.0\n",
    "        try:\n",
    "            slope = dcm.RescaleSlope\n",
    "        except AttributeError:\n",
    "            slope = 0.0\n",
    "\n",
    "        if intercept != 0.0 and slope != 0.0:\n",
    "            dcm_image = dcm_image*slope + intercept\n",
    "        dcm_dict = {'pixel_data' : dcm_image}\n",
    "        return dcm_dict\n",
    "    except InvalidDicomError:\n",
    "        return None\n",
    "    \n",
    "def poly_to_mask(polygon, width=256, height=256):\n",
    "    \"\"\"Convert polygon to mask\n",
    "\n",
    "    :param polygon: list of pairs of x, y coords [(x1, y1), (x2, y2), ...]\n",
    "     in units of pixels\n",
    "    :param width: scalar image width\n",
    "    :param height: scalar image height\n",
    "    :return: Boolean mask of shape (height, width)\n",
    "    \"\"\"\n",
    "\n",
    "    # http://stackoverflow.com/a/3732128/1410871\n",
    "    img = Image.new(mode='L', size=(width, height), color=0)\n",
    "    ImageDraw.Draw(img).polygon(xy=polygon, outline=500, fill=100)\n",
    "    mask = np.array(img).astype(bool)\n",
    "    return mask\n",
    "\n",
    "\n",
    "def link_patient_file(filename=LINK_FILE ,header = True):\n",
    "    \"\"\"\n",
    "    param filename: Name of csv file assuming two columns containing patient_id and original_id.\n",
    "    param header: If first item is header/column name ( default True) or not.\n",
    "    :return: list containing tuples of patient_id and corresponding original_id\n",
    "    \"\"\"\n",
    "    linking_list = []\n",
    "    with open(filename, 'r') as infile:\n",
    "        for line in infile:\n",
    "            if header:\n",
    "                header = False\n",
    "            else:\n",
    "                rec = line.strip().split(\",\")\n",
    "                patient_id = rec[0]\n",
    "                original_id = rec[1]\n",
    "                linking_list.append((patient_id, original_id))\n",
    "    return linking_list\n",
    "\n",
    "#patient_file_link = link_patient_file()\n",
    "\n",
    "\n",
    "def link_dicom_contour(patient_file_link):\n",
    "    patient_dict = {}\n",
    "    dic_cont_arr = []\n",
    "    unknown_idx = []\n",
    "    for link in patient_file_link:\n",
    "        dicom_file_path = glob(os.path.join(DICOM_BASE_PATH,link[0])+\"/*.dcm\")\n",
    "        icountour_file_path = glob(os.path.join(CONTOUR_BASE_PATH,link[1])+\"/i-contours\"+\"/*.txt\")\n",
    "        assert dicom_file_path !=[]\n",
    "        assert icountour_file_path !=[]\n",
    "        try:\n",
    "            dicom_id_dict = dict(list(map(lambda x: (int(x.split(\"/\")[-1].strip(\".dcm\")),x),dicom_file_path)))\n",
    "            contour_id_dict = dict(list(map(lambda x: (int(x.split(\"/\")[-1].split(\"-icontour-manual\")[0].split(\"-\")[-1]),x),icountour_file_path)))\n",
    "        except:\n",
    "            print(\"Please check the file format\")\n",
    "        dic_cont = [] \n",
    "        for idx in contour_id_dict.keys():\n",
    "            try:\n",
    "                dic_cont.append((dicom_id_dict[idx],contour_id_dict[idx]))\n",
    "                dicom_arr = parse_dicom_file(dicom_id_dict[idx])\n",
    "                contour_arr =  poly_to_mask(parse_contour_file(contour_id_dict[idx]),256,256)\n",
    "                dic_cont_arr.append((dicom_arr,contour_arr ))\n",
    "            except:\n",
    "                unknown_idx.append((idx,contour_id_dict[idx]))\n",
    "\n",
    "        patient_dict[link[0]] = dic_cont\n",
    "    print(\"{} contour files unlinked\".format(len(unknown_idx)) )\n",
    "    return dic_cont_arr, patient_dict \n",
    "\n",
    "def save_data(OUTPUT_FOLDER, data):\n",
    "    with open(os.path.join(OUTPUT_FOLDER,'dicom_contour_array.pickle'), 'wb') as handle:\n",
    "        pickle.dump(data, handle, protocol=pickle.HIGHEST_PROTOCOL)\n",
    "\n"
   ]
  },
  {
   "cell_type": "code",
   "execution_count": 56,
   "metadata": {
    "collapsed": true
   },
   "outputs": [],
   "source": [
    "patient_file_link = link_patient_file(LINK_FILE)"
   ]
  },
  {
   "cell_type": "code",
   "execution_count": 57,
   "metadata": {},
   "outputs": [
    {
     "data": {
      "text/plain": [
       "[('SCD0000101', 'SC-HF-I-1'),\n",
       " ('SCD0000201', 'SC-HF-I-2'),\n",
       " ('SCD0000301', 'SC-HF-I-4'),\n",
       " ('SCD0000401', 'SC-HF-I-5'),\n",
       " ('SCD0000501', 'SC-HF-I-6')]"
      ]
     },
     "execution_count": 57,
     "metadata": {},
     "output_type": "execute_result"
    }
   ],
   "source": [
    "patient_file_link"
   ]
  },
  {
   "cell_type": "code",
   "execution_count": 54,
   "metadata": {},
   "outputs": [
    {
     "ename": "AssertionError",
     "evalue": "",
     "output_type": "error",
     "traceback": [
      "\u001b[0;31m---------------------------------------------------------------------------\u001b[0m",
      "\u001b[0;31mAssertionError\u001b[0m                            Traceback (most recent call last)",
      "\u001b[0;32m<ipython-input-54-16dd2bb416fe>\u001b[0m in \u001b[0;36m<module>\u001b[0;34m()\u001b[0m\n\u001b[1;32m      5\u001b[0m     \u001b[0mdicom_file_path\u001b[0m \u001b[0;34m=\u001b[0m \u001b[0mglob\u001b[0m\u001b[0;34m(\u001b[0m\u001b[0mDICOM_BASE_PATH\u001b[0m\u001b[0;34m+\u001b[0m\u001b[0mlink\u001b[0m\u001b[0;34m[\u001b[0m\u001b[0;36m0\u001b[0m\u001b[0;34m]\u001b[0m\u001b[0;34m+\u001b[0m\u001b[0;34m\"/*.dcm\"\u001b[0m\u001b[0;34m)\u001b[0m\u001b[0;34m\u001b[0m\u001b[0m\n\u001b[1;32m      6\u001b[0m     \u001b[0micountour_file_path\u001b[0m \u001b[0;34m=\u001b[0m \u001b[0mglob\u001b[0m\u001b[0;34m(\u001b[0m\u001b[0mCONTOUR_BASE_PATH\u001b[0m\u001b[0;34m+\u001b[0m\u001b[0mlink\u001b[0m\u001b[0;34m[\u001b[0m\u001b[0;36m1\u001b[0m\u001b[0;34m]\u001b[0m\u001b[0;34m+\u001b[0m\u001b[0;34m\"/i-contours\"\u001b[0m\u001b[0;34m+\u001b[0m\u001b[0;34m\"/*.txt\"\u001b[0m\u001b[0;34m)\u001b[0m\u001b[0;34m\u001b[0m\u001b[0m\n\u001b[0;32m----> 7\u001b[0;31m     \u001b[0;32massert\u001b[0m \u001b[0mdicom_file_path\u001b[0m \u001b[0;34m!=\u001b[0m\u001b[0;34m[\u001b[0m\u001b[0;34m]\u001b[0m\u001b[0;34m\u001b[0m\u001b[0m\n\u001b[0m\u001b[1;32m      8\u001b[0m     \u001b[0;32massert\u001b[0m \u001b[0micountour_file_path\u001b[0m \u001b[0;34m!=\u001b[0m\u001b[0;34m[\u001b[0m\u001b[0;34m]\u001b[0m\u001b[0;34m\u001b[0m\u001b[0m\n\u001b[1;32m      9\u001b[0m     \u001b[0;32mtry\u001b[0m\u001b[0;34m:\u001b[0m\u001b[0;34m\u001b[0m\u001b[0m\n",
      "\u001b[0;31mAssertionError\u001b[0m: "
     ]
    }
   ],
   "source": [
    "patient_dict = {}\n",
    "dic_cont_arr = []\n",
    "unknown_idx = []\n",
    "for link in patient_file_link:\n",
    "    dicom_file_path = glob(DICOM_BASE_PATH+link[0]+\"/*.dcm\")\n",
    "    icountour_file_path = glob(CONTOUR_BASE_PATH+link[1]+\"/i-contours\"+\"/*.txt\")\n",
    "    assert dicom_file_path !=[]\n",
    "    assert icountour_file_path !=[]\n",
    "    try:\n",
    "        dicom_id_dict = dict(list(map(lambda x: (int(x.split(\"/\")[-1].strip(\".dcm\")),x),dicom_file_path)))\n",
    "        contour_id_dict = dict(list(map(lambda x: (int(x.split(\"/\")[-1].split(\"-icontour-manual\")[0].split(\"-\")[-1]),x),icountour_file_path)))\n",
    "    except:\n",
    "        print(\"Please check the file format\")\n",
    "    dic_cont = [] \n",
    "\n",
    "    for idx in contour_id_dict.keys():\n",
    "        try:\n",
    "            dic_cont.append((dicom_id_dict[idx],contour_id_dict[idx]))\n",
    "            dic_cont_arr.append((parse_dicom_file(dicom_id_dict[idx]), poly_to_mask(parse_contour_file(contour_id_dict[idx]),256,256)))\n",
    "        except:\n",
    "            unknown_idx.append((idx,contour_id_dict[idx]))\n",
    "\n",
    "    patient_dict[link[0]] = dic_cont\n",
    "print(\"{} contour files unlinked\".format(len(unknown_idx)) )\n"
   ]
  },
  {
   "cell_type": "code",
   "execution_count": 58,
   "metadata": {},
   "outputs": [
    {
     "name": "stdout",
     "output_type": "stream",
     "text": [
      "0 contour files unlinked\n"
     ]
    }
   ],
   "source": [
    "patient_file_link = link_patient_file(LINK_FILE)\n",
    "patient_dicom_contour_dict, patient_dicom_contour_path = link_dicom_contour(patient_file_link)\n",
    "#save_data(OUTPUT_FOLDER,patient_dicom_contour_dict)"
   ]
  },
  {
   "cell_type": "code",
   "execution_count": 60,
   "metadata": {},
   "outputs": [
    {
     "data": {
      "text/plain": [
       "96"
      ]
     },
     "execution_count": 60,
     "metadata": {},
     "output_type": "execute_result"
    }
   ],
   "source": [
    "len(patient_dicom_contour_dict)"
   ]
  },
  {
   "cell_type": "code",
   "execution_count": 61,
   "metadata": {},
   "outputs": [
    {
     "data": {
      "text/plain": [
       "12.0"
      ]
     },
     "execution_count": 61,
     "metadata": {},
     "output_type": "execute_result"
    }
   ],
   "source": [
    "96/8"
   ]
  },
  {
   "cell_type": "code",
   "execution_count": null,
   "metadata": {
    "collapsed": true
   },
   "outputs": [],
   "source": []
  }
 ],
 "metadata": {
  "kernelspec": {
   "display_name": "Python 3",
   "language": "python",
   "name": "python3"
  },
  "language_info": {
   "codemirror_mode": {
    "name": "ipython",
    "version": 3
   },
   "file_extension": ".py",
   "mimetype": "text/x-python",
   "name": "python",
   "nbconvert_exporter": "python",
   "pygments_lexer": "ipython3",
   "version": "3.5.4"
  }
 },
 "nbformat": 4,
 "nbformat_minor": 2
}
